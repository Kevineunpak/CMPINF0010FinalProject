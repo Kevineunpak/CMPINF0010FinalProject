{
 "cells": [
  {
   "attachments": {},
   "cell_type": "markdown",
   "metadata": {},
   "source": [
    "**KEVIN**:"
   ]
  },
  {
   "attachments": {},
   "cell_type": "markdown",
   "metadata": {},
   "source": [
    "**RYDER**: My dataset was the number of arrests in each neighborhood. My rationale for choosing this dataset was that the neighborhoods with the least number of arrests would have the least police presence and thus the least chance for being pulled over for a speeding violation. The top 5 neighborhoods in this respect were as follows:\n",
    "\n",
    "1. Mt. Oliver Neighborhood \n",
    "2. Troy Hill-Herrs Island  \n",
    "3. Mt. Oliver Boro         \n",
    "4. Central Northside       \n",
    "5. Regent Square           "
   ]
  },
  {
   "attachments": {},
   "cell_type": "markdown",
   "metadata": {},
   "source": [
    "**ALEX**:"
   ]
  },
  {
   "attachments": {},
   "cell_type": "markdown",
   "metadata": {},
   "source": [
    "**ZACH**:"
   ]
  },
  {
   "attachments": {},
   "cell_type": "markdown",
   "metadata": {},
   "source": [
    "**ALL OF US**: After comparing our datasets the best neighborhood for Drag Racing was **Highland Park**. To reach this conclusion, Team Kevin compared the number of speedbumps, numbers of arrests, average daily traffic, and number of crosswalks throughout the neighborhoods of Pittsburgh. Speed bumps are weighted heavily; hitting speedbumps at racing speed will kill your suspension and possibly you along with it. Arrests were weighted less heavily, as many in the dataset likely took place off the roads. Traffic figures are weighted heavily for the same reason as the speedbumps. Crosswalks are weighted less heavily than traffic and speedbumps, but still an important metric. Hopefully pedestrians will notice you barreling towards them at highway speeds in the 25 MPH zone and get the heck out of the way. "
   ]
  }
 ],
 "metadata": {
  "language_info": {
   "name": "python"
  },
  "orig_nbformat": 4
 },
 "nbformat": 4,
 "nbformat_minor": 2
}
