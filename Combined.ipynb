{
 "cells": [
  {
   "attachments": {},
   "cell_type": "markdown",
   "metadata": {},
   "source": [
    "**KEVIN**:"
   ]
  },
  {
   "attachments": {},
   "cell_type": "markdown",
   "metadata": {},
   "source": [
    "**RYDER**:"
   ]
  },
  {
   "attachments": {},
   "cell_type": "markdown",
   "metadata": {},
   "source": [
    "**ALEX**:"
   ]
  },
  {
   "attachments": {},
   "cell_type": "markdown",
   "metadata": {},
   "source": [
    "**ZACH**:"
   ]
  },
  {
   "attachments": {},
   "cell_type": "markdown",
   "metadata": {},
   "source": [
    "**ALL OF US**: After comparing our datasets the best neighborhood for Drag Racing was **Highland Park**. To reach this conclusion, Team Kevin compared the number of speedbumps, numbers of arrests, average daily traffic, and number of crosswalks throughout the neighborhoods of Pittsburgh. Speed bumps are weighted heavily; hitting speedbumps at racing speed will kill your suspension and possibly you along with it. Arrests were weighted less heavily, as many in the dataset likely took place off the roads. Traffic figures are weighted heavily for the same reason as the speedbumps. Crosswalks are weighted less heavily than traffic and speedbumps, but still an important metric. Hopefully pedestrians will notice you barreling towards them at highway speeds in the 25 MPH zone and get the heck out of the way. "
   ]
  }
 ],
 "metadata": {
  "language_info": {
   "name": "python"
  },
  "orig_nbformat": 4
 },
 "nbformat": 4,
 "nbformat_minor": 2
}
